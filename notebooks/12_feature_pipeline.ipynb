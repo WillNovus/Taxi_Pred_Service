{
 "cells": [
  {
   "cell_type": "code",
   "execution_count": 1,
   "metadata": {},
   "outputs": [],
   "source": [
    "import src.config as config"
   ]
  },
  {
   "cell_type": "code",
   "execution_count": 2,
   "metadata": {},
   "outputs": [
    {
     "name": "stdout",
     "output_type": "stream",
     "text": [
      "current_date=Timestamp('2023-03-31 12:00:00')\n"
     ]
    }
   ],
   "source": [
    "from datetime import datetime, timedelta\n",
    "\n",
    "import pandas as pd\n",
    "\n",
    "current_date = pd.to_datetime(datetime.utcnow()).floor('H')\n",
    "print(f'{current_date=}')\n",
    "\n",
    "# we fetch raw data for the last 28 days, to add redundancy to our pipeline.\n",
    "fetch_data_to = current_date\n",
    "fetch_data_from = current_date - timedelta(days=28)"
   ]
  },
  {
   "cell_type": "code",
   "execution_count": 3,
   "metadata": {},
   "outputs": [],
   "source": [
    "from src.data import load_raw_data\n",
    "\n",
    "def fetch_batch_raw_data(from_date: datetime, to_date: datetime) -> pd.DataFrame:\n",
    "    \"\"\"\n",
    "    Simulate production data by sampling historical data from 52 weeks ago (i.e. 1 year)\n",
    "    \"\"\"\n",
    "    from_date_ = from_date - timedelta(days=7*52)\n",
    "    to_date_ = to_date - timedelta(days=7*52)\n",
    "\n",
    "    # download 2 files from website\n",
    "    rides = load_raw_data(year=from_date_.year, months=from_date_.month)\n",
    "    rides = rides[rides.pickup_datetime >= from_date_]\n",
    "    rides_2 = load_raw_data(year=to_date_.year, months=to_date_.month)\n",
    "    rides_2 = rides_2[rides_2.pickup_datetime < to_date_]\n",
    "\n",
    "    rides = pd.concat([rides, rides_2])\n",
    "\n",
    "    # shift the data to pretend this is recent data\n",
    "    rides['pickup_datetime'] += timedelta(days=7*52)\n",
    "\n",
    "    rides.sort_values(by=['pickup_location_id', 'pickup_datetime'], inplace=True)\n",
    "\n",
    "    return rides"
   ]
  },
  {
   "cell_type": "code",
   "execution_count": 4,
   "metadata": {},
   "outputs": [
    {
     "name": "stdout",
     "output_type": "stream",
     "text": [
      "File 2022-03 was already in local storage\n",
      "File 2022-04 was already in local storage\n"
     ]
    }
   ],
   "source": [
    "rides = fetch_batch_raw_data(from_date=fetch_data_from, to_date=fetch_data_to)"
   ]
  },
  {
   "cell_type": "code",
   "execution_count": 5,
   "metadata": {},
   "outputs": [
    {
     "name": "stderr",
     "output_type": "stream",
     "text": [
      "100%|██████████| 265/265 [00:01<00:00, 164.85it/s]\n"
     ]
    }
   ],
   "source": [
    "from src.data import transform_raw_data_into_ts_data\n",
    "ts_data = transform_raw_data_into_ts_data(rides)"
   ]
  },
  {
   "cell_type": "code",
   "execution_count": 6,
   "metadata": {},
   "outputs": [
    {
     "name": "stdout",
     "output_type": "stream",
     "text": [
      "Connected. Call `.close()` to terminate connection gracefully.\n",
      "\n",
      "Logged in to project, explore it here https://c.app.hopsworks.ai:443/p/27802\n",
      "Connected. Call `.close()` to terminate connection gracefully.\n"
     ]
    }
   ],
   "source": [
    "import hopsworks\n",
    "\n",
    "project = hopsworks.login(\n",
    "    project=config.HOPSWORK_PROJECT_NAME,\n",
    "    api_key_value = config.HOPSWORK_API_KEY\n",
    ")\n",
    "\n",
    "# connect to the feature store\n",
    "feature_store = project.get_feature_store()\n",
    "\n",
    "feature_group = feature_store.create_feature_group(\n",
    "    name=config.FEATURE_GROUP_NAME,\n",
    "    version=config.FEATURE_GROUP_VERSION,\n",
    "    description=\"Time-series data at hourly frequency\",\n",
    "    primary_key=['pickup_location_id', 'pickup_hour'],\n",
    "    event_time='pickup_hour',\n",
    ")"
   ]
  },
  {
   "cell_type": "code",
   "execution_count": 8,
   "metadata": {},
   "outputs": [
    {
     "ename": "RestAPIError",
     "evalue": "Metadata operation error: (url: https://c.app.hopsworks.ai/hopsworks-api/api/project/27802/featurestores/27722/featuregroups). Server response: \nHTTP code: 400, HTTP reason: Bad Request, error code: 270089, error msg: The feature group you are trying to create does already exist., user msg: project: taxi_batch_scoring, featurestoreId: 27722",
     "output_type": "error",
     "traceback": [
      "\u001b[1;31m---------------------------------------------------------------------------\u001b[0m",
      "\u001b[1;31mRestAPIError\u001b[0m                              Traceback (most recent call last)",
      "Cell \u001b[1;32mIn[8], line 1\u001b[0m\n\u001b[1;32m----> 1\u001b[0m feature_group\u001b[39m.\u001b[39;49minsert(ts_data, write_options\u001b[39m=\u001b[39;49m{\u001b[39m\"\u001b[39;49m\u001b[39mwait_for_job\u001b[39;49m\u001b[39m\"\u001b[39;49m:\u001b[39mFalse\u001b[39;49;00m})\n",
      "File \u001b[1;32mc:\\Users\\gabri\\AppData\\Roaming\\pypoetry\\venv\\lib\\site-packages\\hsfs\\feature_group.py:1075\u001b[0m, in \u001b[0;36mFeatureGroup.insert\u001b[1;34m(self, features, overwrite, operation, storage, write_options, validation_options)\u001b[0m\n\u001b[0;32m   1015\u001b[0m \u001b[39m\u001b[39m\u001b[39m\"\"\"Persist the metadata and materialize the feature group to the feature store\u001b[39;00m\n\u001b[0;32m   1016\u001b[0m \u001b[39mor insert data from a dataframe into the existing feature group.\u001b[39;00m\n\u001b[0;32m   1017\u001b[0m \n\u001b[1;32m   (...)\u001b[0m\n\u001b[0;32m   1071\u001b[0m \u001b[39m    `FeatureGroup`. Updated feature group metadata object.\u001b[39;00m\n\u001b[0;32m   1072\u001b[0m \u001b[39m\"\"\"\u001b[39;00m\n\u001b[0;32m   1073\u001b[0m feature_dataframe \u001b[39m=\u001b[39m engine\u001b[39m.\u001b[39mget_instance()\u001b[39m.\u001b[39mconvert_to_default_dataframe(features)\n\u001b[1;32m-> 1075\u001b[0m job, ge_report \u001b[39m=\u001b[39m \u001b[39mself\u001b[39;49m\u001b[39m.\u001b[39;49m_feature_group_engine\u001b[39m.\u001b[39;49minsert(\n\u001b[0;32m   1076\u001b[0m     \u001b[39mself\u001b[39;49m,\n\u001b[0;32m   1077\u001b[0m     feature_dataframe,\n\u001b[0;32m   1078\u001b[0m     overwrite,\n\u001b[0;32m   1079\u001b[0m     operation,\n\u001b[0;32m   1080\u001b[0m     storage\u001b[39m.\u001b[39;49mlower() \u001b[39mif\u001b[39;49;00m storage \u001b[39mis\u001b[39;49;00m \u001b[39mnot\u001b[39;49;00m \u001b[39mNone\u001b[39;49;00m \u001b[39melse\u001b[39;49;00m \u001b[39mNone\u001b[39;49;00m,\n\u001b[0;32m   1081\u001b[0m     write_options,\n\u001b[0;32m   1082\u001b[0m     validation_options,\n\u001b[0;32m   1083\u001b[0m )\n\u001b[0;32m   1085\u001b[0m \u001b[39mif\u001b[39;00m ge_report \u001b[39mis\u001b[39;00m \u001b[39mNone\u001b[39;00m \u001b[39mor\u001b[39;00m ge_report\u001b[39m.\u001b[39mingestion_result \u001b[39m==\u001b[39m \u001b[39m\"\u001b[39m\u001b[39mINGESTED\u001b[39m\u001b[39m\"\u001b[39m:\n\u001b[0;32m   1086\u001b[0m     \u001b[39mself\u001b[39m\u001b[39m.\u001b[39m_code_engine\u001b[39m.\u001b[39msave_code(\u001b[39mself\u001b[39m)\n",
      "File \u001b[1;32mc:\\Users\\gabri\\AppData\\Roaming\\pypoetry\\venv\\lib\\site-packages\\hsfs\\core\\feature_group_engine.py:84\u001b[0m, in \u001b[0;36mFeatureGroupEngine.insert\u001b[1;34m(self, feature_group, feature_dataframe, overwrite, operation, storage, write_options, validation_options)\u001b[0m\n\u001b[0;32m     78\u001b[0m dataframe_features \u001b[39m=\u001b[39m engine\u001b[39m.\u001b[39mget_instance()\u001b[39m.\u001b[39mparse_schema_feature_group(\n\u001b[0;32m     79\u001b[0m     feature_dataframe, feature_group\u001b[39m.\u001b[39mtime_travel_format\n\u001b[0;32m     80\u001b[0m )\n\u001b[0;32m     82\u001b[0m \u001b[39mif\u001b[39;00m \u001b[39mnot\u001b[39;00m feature_group\u001b[39m.\u001b[39m_id:\n\u001b[0;32m     83\u001b[0m     \u001b[39m# only save metadata if feature group does not exist\u001b[39;00m\n\u001b[1;32m---> 84\u001b[0m     \u001b[39mself\u001b[39;49m\u001b[39m.\u001b[39;49m_save_feature_group_metadata(\n\u001b[0;32m     85\u001b[0m         feature_group, dataframe_features, write_options\n\u001b[0;32m     86\u001b[0m     )\n\u001b[0;32m     87\u001b[0m \u001b[39melse\u001b[39;00m:\n\u001b[0;32m     88\u001b[0m     \u001b[39m# else, just verify that feature group schema matches user-provided dataframe\u001b[39;00m\n\u001b[0;32m     89\u001b[0m     \u001b[39mself\u001b[39m\u001b[39m.\u001b[39m_verify_schema_compatibility(\n\u001b[0;32m     90\u001b[0m         feature_group\u001b[39m.\u001b[39mfeatures, dataframe_features\n\u001b[0;32m     91\u001b[0m     )\n",
      "File \u001b[1;32mc:\\Users\\gabri\\AppData\\Roaming\\pypoetry\\venv\\lib\\site-packages\\hsfs\\core\\feature_group_engine.py:391\u001b[0m, in \u001b[0;36mFeatureGroupEngine._save_feature_group_metadata\u001b[1;34m(self, feature_group, dataframe_features, write_options)\u001b[0m\n\u001b[0;32m    388\u001b[0m \u001b[39mif\u001b[39;00m feature_group\u001b[39m.\u001b[39mstream:\n\u001b[0;32m    389\u001b[0m     feature_group\u001b[39m.\u001b[39m_options \u001b[39m=\u001b[39m write_options\n\u001b[1;32m--> 391\u001b[0m \u001b[39mself\u001b[39;49m\u001b[39m.\u001b[39;49m_feature_group_api\u001b[39m.\u001b[39;49msave(feature_group)\n\u001b[0;32m    392\u001b[0m \u001b[39mprint\u001b[39m(\n\u001b[0;32m    393\u001b[0m     \u001b[39m\"\u001b[39m\u001b[39mFeature Group created successfully, explore it at \u001b[39m\u001b[39m\\n\u001b[39;00m\u001b[39m\"\u001b[39m\n\u001b[0;32m    394\u001b[0m     \u001b[39m+\u001b[39m \u001b[39mself\u001b[39m\u001b[39m.\u001b[39m_get_feature_group_url(feature_group)\n\u001b[0;32m    395\u001b[0m )\n",
      "File \u001b[1;32mc:\\Users\\gabri\\AppData\\Roaming\\pypoetry\\venv\\lib\\site-packages\\hsfs\\core\\feature_group_api.py:49\u001b[0m, in \u001b[0;36mFeatureGroupApi.save\u001b[1;34m(self, feature_group_instance)\u001b[0m\n\u001b[0;32m     39\u001b[0m path_params \u001b[39m=\u001b[39m [\n\u001b[0;32m     40\u001b[0m     \u001b[39m\"\u001b[39m\u001b[39mproject\u001b[39m\u001b[39m\"\u001b[39m,\n\u001b[0;32m     41\u001b[0m     _client\u001b[39m.\u001b[39m_project_id,\n\u001b[1;32m   (...)\u001b[0m\n\u001b[0;32m     44\u001b[0m     \u001b[39m\"\u001b[39m\u001b[39mfeaturegroups\u001b[39m\u001b[39m\"\u001b[39m,\n\u001b[0;32m     45\u001b[0m ]\n\u001b[0;32m     46\u001b[0m headers \u001b[39m=\u001b[39m {\u001b[39m\"\u001b[39m\u001b[39mcontent-type\u001b[39m\u001b[39m\"\u001b[39m: \u001b[39m\"\u001b[39m\u001b[39mapplication/json\u001b[39m\u001b[39m\"\u001b[39m}\n\u001b[0;32m     48\u001b[0m \u001b[39mreturn\u001b[39;00m feature_group_instance\u001b[39m.\u001b[39mupdate_from_response_json(\n\u001b[1;32m---> 49\u001b[0m     _client\u001b[39m.\u001b[39;49m_send_request(\n\u001b[0;32m     50\u001b[0m         \u001b[39m\"\u001b[39;49m\u001b[39mPOST\u001b[39;49m\u001b[39m\"\u001b[39;49m,\n\u001b[0;32m     51\u001b[0m         path_params,\n\u001b[0;32m     52\u001b[0m         headers\u001b[39m=\u001b[39;49mheaders,\n\u001b[0;32m     53\u001b[0m         data\u001b[39m=\u001b[39;49mfeature_group_instance\u001b[39m.\u001b[39;49mjson(),\n\u001b[0;32m     54\u001b[0m     ),\n\u001b[0;32m     55\u001b[0m )\n",
      "File \u001b[1;32mc:\\Users\\gabri\\AppData\\Roaming\\pypoetry\\venv\\lib\\site-packages\\hsfs\\decorators.py:35\u001b[0m, in \u001b[0;36mconnected.<locals>.if_connected\u001b[1;34m(inst, *args, **kwargs)\u001b[0m\n\u001b[0;32m     33\u001b[0m \u001b[39mif\u001b[39;00m \u001b[39mnot\u001b[39;00m inst\u001b[39m.\u001b[39m_connected:\n\u001b[0;32m     34\u001b[0m     \u001b[39mraise\u001b[39;00m NoHopsworksConnectionError\n\u001b[1;32m---> 35\u001b[0m \u001b[39mreturn\u001b[39;00m fn(inst, \u001b[39m*\u001b[39margs, \u001b[39m*\u001b[39m\u001b[39m*\u001b[39mkwargs)\n",
      "File \u001b[1;32mc:\\Users\\gabri\\AppData\\Roaming\\pypoetry\\venv\\lib\\site-packages\\hsfs\\client\\base.py:171\u001b[0m, in \u001b[0;36mClient._send_request\u001b[1;34m(self, method, path_params, query_params, headers, data, stream, files)\u001b[0m\n\u001b[0;32m    168\u001b[0m     response \u001b[39m=\u001b[39m \u001b[39mself\u001b[39m\u001b[39m.\u001b[39m_session\u001b[39m.\u001b[39msend(prepped, verify\u001b[39m=\u001b[39m\u001b[39mself\u001b[39m\u001b[39m.\u001b[39m_verify, stream\u001b[39m=\u001b[39mstream)\n\u001b[0;32m    170\u001b[0m \u001b[39mif\u001b[39;00m response\u001b[39m.\u001b[39mstatus_code \u001b[39m/\u001b[39m\u001b[39m/\u001b[39m \u001b[39m100\u001b[39m \u001b[39m!=\u001b[39m \u001b[39m2\u001b[39m:\n\u001b[1;32m--> 171\u001b[0m     \u001b[39mraise\u001b[39;00m exceptions\u001b[39m.\u001b[39mRestAPIError(url, response)\n\u001b[0;32m    173\u001b[0m \u001b[39mif\u001b[39;00m stream:\n\u001b[0;32m    174\u001b[0m     \u001b[39mreturn\u001b[39;00m response\n",
      "\u001b[1;31mRestAPIError\u001b[0m: Metadata operation error: (url: https://c.app.hopsworks.ai/hopsworks-api/api/project/27802/featurestores/27722/featuregroups). Server response: \nHTTP code: 400, HTTP reason: Bad Request, error code: 270089, error msg: The feature group you are trying to create does already exist., user msg: project: taxi_batch_scoring, featurestoreId: 27722"
     ]
    }
   ],
   "source": [
    "feature_group.insert(ts_data, write_options={\"wait_for_job\":False})"
   ]
  },
  {
   "cell_type": "code",
   "execution_count": null,
   "metadata": {},
   "outputs": [],
   "source": []
  }
 ],
 "metadata": {
  "kernelspec": {
   "display_name": "venv",
   "language": "python",
   "name": "python3"
  },
  "language_info": {
   "codemirror_mode": {
    "name": "ipython",
    "version": 3
   },
   "file_extension": ".py",
   "mimetype": "text/x-python",
   "name": "python",
   "nbconvert_exporter": "python",
   "pygments_lexer": "ipython3",
   "version": "3.9.13"
  },
  "orig_nbformat": 4,
  "vscode": {
   "interpreter": {
    "hash": "00b3ddb094b9e04fe59f4de86d62e52dc048dee5413d04c7b5b92444639cf601"
   }
  }
 },
 "nbformat": 4,
 "nbformat_minor": 2
}
